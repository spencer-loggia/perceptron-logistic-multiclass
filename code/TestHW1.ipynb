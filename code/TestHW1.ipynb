{
 "cells": [
  {
   "cell_type": "heading",
   "metadata": {
    "collapsed": true
   },
   "level": 1,
   "source": [
    "Load Modules\n",
    "- Scipy\n",
    "- dataloading function\n",
    "- Numpy\n",
    "- os"
   ]
  },
  {
   "cell_type": "code",
   "execution_count": 4,
   "metadata": {
    "collapsed": false
   },
   "outputs": [],
   "source": [
    "import os\n",
    "import json\n",
    "import pickle\n",
    "import argparse as ap\n",
    "\n",
    "import numpy as np\n",
    "\n",
    "from code import models\n",
    "\n",
    "from code import data"
   ]
  },
  {
   "cell_type": "heading",
   "metadata": {},
   "level": 1,
   "source": [
    "Inintialize a new logistic MC object "
   ]
  },
  {
   "cell_type": "code",
   "execution_count": 6,
   "metadata": {},
   "outputs": [],
   "source": [
    "test_LMC = models.MCLogistic(nfeatures=10, nclasses=10)\n"
   ]
  },
  {
   "cell_type": "code",
   "execution_count": 7,
   "metadata": {},
   "outputs": [
    {
     "name": "stdout",
     "output_type": "stream",
     "text": [
      "[1. 1. 1. 1. 1. 1. 1. 1. 1. 1.]\n[1. 1. 1. 1. 1. 1. 1. 1. 1. 1.]\n[1. 1. 1. 1. 1. 1. 1. 1. 1. 1.]\n[1. 1. 1. 1. 1. 1. 1. 1. 1. 1.]\n[1. 1. 1. 1. 1. 1. 1. 1. 1. 1.]\n[1. 1. 1. 1. 1. 1. 1. 1. 1. 1.]\n[1. 1. 1. 1. 1. 1. 1. 1. 1. 1.]\n[1. 1. 1. 1. 1. 1. 1. 1. 1. 1.]\n[1. 1. 1. 1. 1. 1. 1. 1. 1. 1.]\n[1. 1. 1. 1. 1. 1. 1. 1. 1. 1.]\n"
     ]
    }
   ],
   "source": [
    "for i in test_LMC.Ws:\n",
    "        print(i)\n"
   ]
  },
  {
   "cell_type": "heading",
   "metadata": {},
   "level": 1,
   "source": [
    "test logits and softmax function"
   ]
  },
  {
   "cell_type": "code",
   "execution_count": 8,
   "metadata": {},
   "outputs": [
    {
     "name": "stdout",
     "output_type": "stream",
     "text": [
      "here\n[[10. 10. 10. 10. 10. 10. 10. 10. 10. 10.]\n [10. 10. 10. 10. 10. 10. 10. 10. 10. 10.]\n [10. 10. 10. 10. 10. 10. 10. 10. 10. 10.]\n [10. 10. 10. 10. 10. 10. 10. 10. 10. 10.]\n [10. 10. 10. 10. 10. 10. 10. 10. 10. 10.]\n [10. 10. 10. 10. 10. 10. 10. 10. 10. 10.]\n [10. 10. 10. 10. 10. 10. 10. 10. 10. 10.]\n [10. 10. 10. 10. 10. 10. 10. 10. 10. 10.]\n [10. 10. 10. 10. 10. 10. 10. 10. 10. 10.]\n [10. 10. 10. 10. 10. 10. 10. 10. 10. 10.]]\n"
     ]
    },
    {
     "data": {
      "text/plain": [
       "<code.models.MCLogistic at 0x112ca8748>"
      ]
     },
     "execution_count": 8,
     "metadata": {},
     "output_type": "execute_result"
    }
   ],
   "source": [
    "X = [1, 1, 1, 1, 1, 1, 1, 1, 1, 1]\n",
    "\n",
    "print(test_LMC.logits(X))\n",
    "\n",
    "test_LMC"
   ]
  },
  {
   "cell_type": "code",
   "execution_count": 9,
   "metadata": {},
   "outputs": [],
   "source": []
  },
  {
   "cell_type": "code",
   "execution_count": 9,
   "metadata": {},
   "outputs": [],
   "source": []
  },
  {
   "cell_type": "code",
   "execution_count": 9,
   "metadata": {},
   "outputs": [],
   "source": []
  },
  {
   "cell_type": "code",
   "execution_count": null,
   "metadata": {},
   "outputs": [],
   "source": []
  }
 ],
 "metadata": {
  "kernelspec": {
   "display_name": "Python 2",
   "language": "python",
   "name": "python2"
  },
  "language_info": {
   "codemirror_mode": {
    "name": "ipython",
    "version": 2
   },
   "file_extension": ".py",
   "mimetype": "text/x-python",
   "name": "python",
   "nbconvert_exporter": "python",
   "pygments_lexer": "ipython2",
   "version": "2.7.6"
  }
 },
 "nbformat": 4,
 "nbformat_minor": 0
}
